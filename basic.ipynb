{
  "nbformat": 4,
  "nbformat_minor": 0,
  "metadata": {
    "colab": {
      "provenance": [],
      "authorship_tag": "ABX9TyN2BWFezapVRd2TGUzDMTAa",
      "include_colab_link": true
    },
    "kernelspec": {
      "name": "python3",
      "display_name": "Python 3"
    },
    "language_info": {
      "name": "python"
    }
  },
  "cells": [
    {
      "cell_type": "markdown",
      "metadata": {
        "id": "view-in-github",
        "colab_type": "text"
      },
      "source": [
        "<a href=\"https://colab.research.google.com/github/parkash-arjan/machine-learning/blob/master/eigen_values.ipynb\" target=\"_parent\"><img src=\"https://colab.research.google.com/assets/colab-badge.svg\" alt=\"Open In Colab\"/></a>"
      ]
    },
    {
      "cell_type": "code",
      "execution_count": 168,
      "metadata": {
        "id": "g6s3hw80HDLQ"
      },
      "outputs": [],
      "source": [
        "import numpy as np\n",
        "import matplotlib.pyplot as plt"
      ]
    },
    {
      "cell_type": "code",
      "source": [
        "def plot_vector(vectors , columns , alpha=1):\n",
        "  plt.figure()\n",
        "  plt.axvline(x=0, color='#A9A9A9' , zorder=0)\n",
        "  plt.axhline(y=0, color='#A9A9A9' , zorder=0)\n",
        "  for i in range(len(vectors)):\n",
        "    x=np.concatenate([[0,0],vectors[i]])\n",
        "    plt.quiver(x[0],\n",
        "               x[1],\n",
        "               x[2],\n",
        "               x[3],\n",
        "               angles = 'xy' , scale_units='xy',scale=1,color=columns[i],alpha=alpha)\n",
        "    plt.grid(True)   "
      ],
      "metadata": {
        "id": "-hT68jwqJzPz"
      },
      "execution_count": 169,
      "outputs": []
    },
    {
      "cell_type": "code",
      "source": [
        "A = np.array([[-1,3],[2,-2]])\n",
        "v = np.array([[2],[1]])"
      ],
      "metadata": {
        "id": "qCJEY9DpL8rw"
      },
      "execution_count": 170,
      "outputs": []
    },
    {
      "cell_type": "code",
      "source": [
        "print (A)\n",
        "print (v)"
      ],
      "metadata": {
        "id": "CzImx6IQMhY1",
        "outputId": "bcba2e85-0f1c-42a1-982f-9f15bd1e9788",
        "colab": {
          "base_uri": "https://localhost:8080/"
        }
      },
      "execution_count": 171,
      "outputs": [
        {
          "output_type": "stream",
          "name": "stdout",
          "text": [
            "[[-1  3]\n",
            " [ 2 -2]]\n",
            "[[2]\n",
            " [1]]\n"
          ]
        }
      ]
    },
    {
      "cell_type": "code",
      "source": [
        "vectors = [v.flatten()] \n",
        "print(vectors[0])\n",
        "print([0],[0])\n",
        "np.concatenate([[0],[0],vectors[0]])"
      ],
      "metadata": {
        "colab": {
          "base_uri": "https://localhost:8080/"
        },
        "id": "uf8kEvAJPrpj",
        "outputId": "865b37a6-97f1-4e99-b44d-b910145a1a4c"
      },
      "execution_count": 172,
      "outputs": [
        {
          "output_type": "stream",
          "name": "stdout",
          "text": [
            "[2 1]\n",
            "[0] [0]\n"
          ]
        },
        {
          "output_type": "execute_result",
          "data": {
            "text/plain": [
              "array([0, 0, 2, 1])"
            ]
          },
          "metadata": {},
          "execution_count": 172
        }
      ]
    },
    {
      "cell_type": "code",
      "source": [
        "plot_vector([v.flatten()],columns=['#Ff0000'])\n",
        "plt.ylim(-1,4)\n",
        "plt.xlim(-1,4)"
      ],
      "metadata": {
        "colab": {
          "base_uri": "https://localhost:8080/",
          "height": 286
        },
        "id": "4KRoTddEORS6",
        "outputId": "7ff0ad5a-d5e7-44be-e031-36b8754ad27c"
      },
      "execution_count": 173,
      "outputs": [
        {
          "output_type": "execute_result",
          "data": {
            "text/plain": [
              "(-1.0, 4.0)"
            ]
          },
          "metadata": {},
          "execution_count": 173
        },
        {
          "output_type": "display_data",
          "data": {
            "text/plain": [
              "<Figure size 432x288 with 1 Axes>"
            ],
            "image/png": "[encoded data removed]"
          },
          "metadata": {
            "needs_background": "light"
          }
        }
      ]
    },
    {
      "cell_type": "code",
      "source": [
        "Av = A.dot(v)\n",
        "Av"
      ],
      "metadata": {
        "colab": {
          "base_uri": "https://localhost:8080/"
        },
        "id": "4TiH7O0lXNp3",
        "outputId": "dc8fdf5f-9b9c-4629-9a71-cc24de5cf16d"
      },
      "execution_count": 174,
      "outputs": [
        {
          "output_type": "execute_result",
          "data": {
            "text/plain": [
              "array([[1],\n",
              "       [2]])"
            ]
          },
          "metadata": {},
          "execution_count": 174
        }
      ]
    },
    {
      "cell_type": "code",
      "source": [
        "Av = A.dot(v)\n",
        "red = '#Ff0000'\n",
        "blue = '#00008b'\n",
        "plot_vector([Av.flatten(),v.flatten()],columns=[red,blue])\n",
        "plt.ylim(-0.5,3)\n",
        "plt.xlim(-0.5,3)"
      ],
      "metadata": {
        "colab": {
          "base_uri": "https://localhost:8080/",
          "height": 286
        },
        "id": "g_tf9UF7U-OK",
        "outputId": "0cdefe10-c9e5-4fd5-83e7-2a19ed8dece1"
      },
      "execution_count": 175,
      "outputs": [
        {
          "output_type": "execute_result",
          "data": {
            "text/plain": [
              "(-0.5, 3.0)"
            ]
          },
          "metadata": {},
          "execution_count": 175
        },
        {
          "output_type": "display_data",
          "data": {
            "text/plain": [
              "<Figure size 432x288 with 1 Axes>"
            ],
            "image/png": "[encoded data removed]"
          },
          "metadata": {
            "needs_background": "light"
          }
        }
      ]
    },
    {
      "cell_type": "code",
      "source": [
        "A_ =np.array([[5,1],[3,3]])\n",
        "v_ =np.array([[1],[1]])\n",
        "Av_ = A_.dot(v_)\n",
        "Av_"
      ],
      "metadata": {
        "colab": {
          "base_uri": "https://localhost:8080/"
        },
        "id": "T8ai62yNZUAQ",
        "outputId": "0bc43fb8-d7c5-4c90-be74-9daa758e5302"
      },
      "execution_count": 176,
      "outputs": [
        {
          "output_type": "execute_result",
          "data": {
            "text/plain": [
              "array([[6],\n",
              "       [6]])"
            ]
          },
          "metadata": {},
          "execution_count": 176
        }
      ]
    },
    {
      "cell_type": "code",
      "source": [
        "plot_vector([Av_.flatten(),v_.flatten()],columns=[red,blue])\n",
        "plt.ylim(-1,7)\n",
        "plt.xlim(-1,7)"
      ],
      "metadata": {
        "colab": {
          "base_uri": "https://localhost:8080/",
          "height": 286
        },
        "id": "I9gvH1nzaDqT",
        "outputId": "76e38ed5-9d8d-4f65-98ab-e9f943079784"
      },
      "execution_count": 177,
      "outputs": [
        {
          "output_type": "execute_result",
          "data": {
            "text/plain": [
              "(-1.0, 7.0)"
            ]
          },
          "metadata": {},
          "execution_count": 177
        },
        {
          "output_type": "display_data",
          "data": {
            "text/plain": [
              "<Figure size 432x288 with 1 Axes>"
            ],
            "image/png": "[encoded data removed]"
          },
          "metadata": {
            "needs_background": "light"
          }
        }
      ]
    },
    {
      "cell_type": "markdown",
      "source": [
        "# New Section"
      ],
      "metadata": {
        "id": "w9MvohFJdZbp"
      }
    }
  ]
}
