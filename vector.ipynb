{
  "nbformat": 4,
  "nbformat_minor": 0,
  "metadata": {
    "colab": {
      "provenance": [],
      "authorship_tag": "ABX9TyPsYmxSGq8l9Q4X2/Uh65Ua",
      "include_colab_link": true
    },
    "kernelspec": {
      "name": "python3",
      "display_name": "Python 3"
    },
    "language_info": {
      "name": "python"
    }
  },
  "cells": [
    {
      "cell_type": "markdown",
      "metadata": {
        "id": "view-in-github",
        "colab_type": "text"
      },
      "source": [
        "<a href=\"https://colab.research.google.com/github/parkash-arjan/machine-learning/blob/master/vector.ipynb\" target=\"_parent\"><img src=\"https://colab.research.google.com/assets/colab-badge.svg\" alt=\"Open In Colab\"/></a>"
      ]
    },
    {
      "cell_type": "markdown",
      "source": [
        "Linear Albegra"
      ],
      "metadata": {
        "id": "247tDa-3qCIS"
      }
    },
    {
      "cell_type": "markdown",
      "source": [
        "Define an n-vector in numpy"
      ],
      "metadata": {
        "id": "Gfk5MfSMsIuL"
      }
    },
    {
      "cell_type": "code",
      "source": [
        "import numpy as np\n",
        "\n",
        "\n",
        "\n",
        "# Define an n-dimensional vector feature_vector\n",
        "feature_vector = np.array([1,2,4])\n",
        "\n",
        "#Print vector vec-a\n",
        "print(feature_vector)"
      ],
      "metadata": {
        "id": "IiU8H78IqG7P",
        "colab": {
          "base_uri": "https://localhost:8080/"
        },
        "outputId": "cc64c008-ed13-494f-afdc-784ea59917fa"
      },
      "execution_count": 4,
      "outputs": [
        {
          "output_type": "stream",
          "name": "stdout",
          "text": [
            "[1 2 4]\n"
          ]
        }
      ]
    },
    {
      "cell_type": "markdown",
      "source": [
        "\n",
        "$$\n",
        "\\|\\mathbf{v}\\|_2 = \\sqrt{v_1^2 + v_2^2 + \\dots + v_n^2}\n",
        "$$\n"
      ],
      "metadata": {
        "id": "nFtToJFzuQDK"
      }
    },
    {
      "cell_type": "code",
      "source": [
        "norm_feature_vector = np.linalg.norm(feature_vector)\n",
        "print(norm_feature_vector)"
      ],
      "metadata": {
        "colab": {
          "base_uri": "https://localhost:8080/"
        },
        "id": "ye8Vv-FFu1E5",
        "outputId": "b83dcebb-ce22-481a-b0ed-29b1c79eb4ff"
      },
      "execution_count": 7,
      "outputs": [
        {
          "output_type": "stream",
          "name": "stdout",
          "text": [
            "4.58257569495584\n"
          ]
        }
      ]
    },
    {
      "cell_type": "code",
      "source": [
        "# Euclidean distance between two vectors\n",
        "\n",
        "feature_vector_a = np.array([1,2,4])\n",
        "feature_vector_b = np.array([4,2,1])\n",
        "distance = np.linalg.norm(feature_vector_a - feature_vector_b)\n",
        "print(distance)\n"
      ],
      "metadata": {
        "colab": {
          "base_uri": "https://localhost:8080/"
        },
        "id": "nWGdjFqFvptj",
        "outputId": "526ec219-4db6-496e-e87f-be149309b3d4"
      },
      "execution_count": 9,
      "outputs": [
        {
          "output_type": "stream",
          "name": "stdout",
          "text": [
            "4.242640687119285\n"
          ]
        }
      ]
    }
  ]
}