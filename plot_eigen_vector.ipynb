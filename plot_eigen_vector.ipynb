{
  "nbformat": 4,
  "nbformat_minor": 0,
  "metadata": {
    "colab": {
      "provenance": [],
      "authorship_tag": "ABX9TyP8derpZ3Gk0CEJDfmA6mrm",
      "include_colab_link": true
    },
    "kernelspec": {
      "name": "python3",
      "display_name": "Python 3"
    },
    "language_info": {
      "name": "python"
    }
  },
  "cells": [
    {
      "cell_type": "markdown",
      "metadata": {
        "id": "view-in-github",
        "colab_type": "text"
      },
      "source": [
        "<a href=\"https://colab.research.google.com/github/parkash-arjan/machine-learning/blob/master/plot_eigen_vector.ipynb\" target=\"_parent\"><img src=\"https://colab.research.google.com/assets/colab-badge.svg\" alt=\"Open In Colab\"/></a>"
      ]
    },
    {
      "cell_type": "markdown",
      "source": [
        "# **This is an example of eigen values and eigen vector of a Matrix.**"
      ],
      "metadata": {
        "id": "RC8iMg2IA2cY"
      }
    },
    {
      "cell_type": "markdown",
      "source": [],
      "metadata": {
        "id": "I6AN0XpDAz5Z"
      }
    },
    {
      "cell_type": "code",
      "source": [
        "import numpy as np\n",
        "import matplotlib.pyplot as plt"
      ],
      "metadata": {
        "id": "0d_hsSy3A0Aq"
      },
      "execution_count": 133,
      "outputs": []
    },
    {
      "cell_type": "code",
      "source": [
        "def plot_vector(vectors , columns , alpha=1):\n",
        "  plt.figure()\n",
        "  plt.axvline(x=0, color='#A9A9A9' , zorder=0)\n",
        "  plt.axhline(y=0, color='#A9A9A9' , zorder=0)\n",
        "  for i in range(len(vectors)):\n",
        "    x=np.concatenate([[0,0],vectors[i]])\n",
        "    plt.quiver(x[0],\n",
        "               x[1],\n",
        "               x[2],\n",
        "               x[3],\n",
        "               angles = 'xy' , scale_units='xy',scale=1,color=columns[i],alpha=alpha)\n",
        "    plt.grid(True) "
      ],
      "metadata": {
        "id": "_Eb6V0TxwVn6"
      },
      "execution_count": 134,
      "outputs": []
    },
    {
      "cell_type": "code",
      "source": [
        "A =np.array([[5,1],[3,3]])"
      ],
      "metadata": {
        "id": "dTVX4GyiwpOp"
      },
      "execution_count": 135,
      "outputs": []
    },
    {
      "cell_type": "code",
      "source": [
        "eigen_values,eigen_vectors  = np.linalg.eig(A) "
      ],
      "metadata": {
        "id": "wxhBxlLlx4F5"
      },
      "execution_count": 136,
      "outputs": []
    },
    {
      "cell_type": "code",
      "source": [
        "print(eigen_values)"
      ],
      "metadata": {
        "colab": {
          "base_uri": "https://localhost:8080/"
        },
        "id": "c1xxUDDRyIU9",
        "outputId": "3ba581a8-6d5c-42c4-e4cd-71ea17d6752b"
      },
      "execution_count": 137,
      "outputs": [
        {
          "output_type": "stream",
          "name": "stdout",
          "text": [
            "[6. 2.]\n"
          ]
        }
      ]
    },
    {
      "cell_type": "code",
      "source": [
        "print(eigen_vectors)"
      ],
      "metadata": {
        "colab": {
          "base_uri": "https://localhost:8080/"
        },
        "id": "k36yLOzbyIe4",
        "outputId": "67244110-f362-4ed9-cef8-b0b2b12b079e"
      },
      "execution_count": 138,
      "outputs": [
        {
          "output_type": "stream",
          "name": "stdout",
          "text": [
            "[[ 0.70710678 -0.31622777]\n",
            " [ 0.70710678  0.9486833 ]]\n"
          ]
        }
      ]
    },
    {
      "cell_type": "code",
      "source": [
        "red = '#Ff0000'\n",
        "plot_vector([eigen_vectors[:,[0]].flatten()],columns=[red])\n",
        "plt.ylim(-1,1)\n",
        "plt.xlim(-1,1)"
      ],
      "metadata": {
        "colab": {
          "base_uri": "https://localhost:8080/",
          "height": 286
        },
        "id": "D865e99Pye3c",
        "outputId": "9b4e8c1c-6afa-4992-8d58-ce1383967068"
      },
      "execution_count": 139,
      "outputs": [
        {
          "output_type": "execute_result",
          "data": {
            "text/plain": [
              "(-1.0, 1.0)"
            ]
          },
          "metadata": {},
          "execution_count": 139
        },
        {
          "output_type": "display_data",
          "data": {
            "text/plain": [
              "<Figure size 432x288 with 1 Axes>"
            ],
            "image/png": "[encoded data removed]"
          },
          "metadata": {
            "needs_background": "light"
          }
        }
      ]
    },
    {
      "cell_type": "code",
      "source": [
        "red = '#FF0000'\n",
        "plot_vector([eigen_vectors[:,[1]].flatten()],columns=[red])\n",
        "plt.ylim(-1,1)\n",
        "plt.xlim(-1,1)"
      ],
      "metadata": {
        "colab": {
          "base_uri": "https://localhost:8080/",
          "height": 286
        },
        "id": "Ebl8dKyJ2MuD",
        "outputId": "90c496ef-0bc6-47e5-acdd-2a783cbfeecc"
      },
      "execution_count": 140,
      "outputs": [
        {
          "output_type": "execute_result",
          "data": {
            "text/plain": [
              "(-1.0, 1.0)"
            ]
          },
          "metadata": {},
          "execution_count": 140
        },
        {
          "output_type": "display_data",
          "data": {
            "text/plain": [
              "<Figure size 432x288 with 1 Axes>"
            ],
            "image/png": "[encoded data removed]"
          },
          "metadata": {
            "needs_background": "light"
          }
        }
      ]
    },
    {
      "cell_type": "code",
      "source": [
        "blue = '#0000FF'\n",
        "eigen_product = A.dot(eigen_vectors[:,[0]])\n",
        "plot_vector([eigen_product.flatten() , eigen_vectors[:,[0]].flatten()  ],\n",
        "            columns=[red,blue])\n",
        "plt.ylim(-1,5)\n",
        "plt.xlim(-1,5)"
      ],
      "metadata": {
        "colab": {
          "base_uri": "https://localhost:8080/",
          "height": 286
        },
        "id": "HwWTlw7YzPeb",
        "outputId": "e0a1e96d-546a-4e15-9a65-f37fc747635d"
      },
      "execution_count": 141,
      "outputs": [
        {
          "output_type": "execute_result",
          "data": {
            "text/plain": [
              "(-1.0, 5.0)"
            ]
          },
          "metadata": {},
          "execution_count": 141
        },
        {
          "output_type": "display_data",
          "data": {
            "text/plain": [
              "<Figure size 432x288 with 1 Axes>"
            ],
            "image/png": "[encoded data removed]"
          },
          "metadata": {
            "needs_background": "light"
          }
        }
      ]
    },
    {
      "cell_type": "code",
      "source": [
        "blue = '#0000FF'\n",
        "eigen_product = A.dot(eigen_vectors[:,[1]])\n",
        "plot_vector([eigen_product.flatten() , eigen_vectors[:,[1]].flatten() ],\n",
        "            columns=[blue,red])\n",
        "plt.ylim(-1,2)\n",
        "plt.xlim(-2,2)"
      ],
      "metadata": {
        "colab": {
          "base_uri": "https://localhost:8080/",
          "height": 286
        },
        "id": "cEzgNWFS2fc-",
        "outputId": "12e1ca0c-f13b-411b-a928-b979e72df94a"
      },
      "execution_count": 142,
      "outputs": [
        {
          "output_type": "execute_result",
          "data": {
            "text/plain": [
              "(-2.0, 2.0)"
            ]
          },
          "metadata": {},
          "execution_count": 142
        },
        {
          "output_type": "display_data",
          "data": {
            "text/plain": [
              "<Figure size 432x288 with 1 Axes>"
            ],
            "image/png": "[encoded data removed]"
          },
          "metadata": {
            "needs_background": "light"
          }
        }
      ]
    }
  ]
}