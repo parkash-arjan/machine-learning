{
  "nbformat": 4,
  "nbformat_minor": 0,
  "metadata": {
    "colab": {
      "provenance": [],
      "authorship_tag": "ABX9TyNGqaUf/4R0kE56Ss8aL9q2",
      "include_colab_link": true
    },
    "kernelspec": {
      "name": "python3",
      "display_name": "Python 3"
    },
    "language_info": {
      "name": "python"
    }
  },
  "cells": [
    {
      "cell_type": "markdown",
      "metadata": {
        "id": "view-in-github",
        "colab_type": "text"
      },
      "source": [
        "<a href=\"https://colab.research.google.com/github/parkash-arjan/machine-learning/blob/master/eigen_values.ipynb\" target=\"_parent\"><img src=\"https://colab.research.google.com/assets/colab-badge.svg\" alt=\"Open In Colab\"/></a>"
      ]
    },
    {
      "cell_type": "code",
      "execution_count": 1,
      "metadata": {
        "id": "qZ9RsnkLeoyy"
      },
      "outputs": [],
      "source": [
        "import numpy as np\n",
        "import matplotlib.pyplot as plt"
      ]
    },
    {
      "cell_type": "code",
      "source": [
        "def plot_vector(vectors , columns , alpha=1):\n",
        "  plt.figure()\n",
        "  plt.axvline(x=0, color='#A9A9A9' , zorder=0)\n",
        "  plt.axhline(y=0, color='#A9A9A9' , zorder=0)\n",
        "  for i in range(len(vectors)):\n",
        "    x=np.concatenate([[0,0],vectors[i]])\n",
        "    plt.quiver(x[0],\n",
        "               x[1],\n",
        "               x[2],\n",
        "               x[3],\n",
        "               angles = 'xy' , scale_units='xy',scale=1,color=columns[i],alpha=alpha)\n",
        "    plt.grid(True)  "
      ],
      "metadata": {
        "id": "ku3TzBuaevpN"
      },
      "execution_count": 2,
      "outputs": []
    },
    {
      "cell_type": "code",
      "source": [
        "M = np.array([[1,2,1],[0,1,1],[1,0,1]])\n",
        "print(M)"
      ],
      "metadata": {
        "colab": {
          "base_uri": "https://localhost:8080/"
        },
        "id": "Wb6opU50e08X",
        "outputId": "ffaedf81-2b37-4ab8-98a6-248fc3c7f91c"
      },
      "execution_count": 3,
      "outputs": [
        {
          "output_type": "stream",
          "name": "stdout",
          "text": [
            "[[1 2 1]\n",
            " [0 1 1]\n",
            " [1 0 1]]\n"
          ]
        }
      ]
    },
    {
      "cell_type": "code",
      "source": [
        "Lambda,U  = np.linalg.eig(M) "
      ],
      "metadata": {
        "id": "YiMazZwPoi3f"
      },
      "execution_count": 11,
      "outputs": []
    },
    {
      "cell_type": "code",
      "source": [
        "print(U)"
      ],
      "metadata": {
        "colab": {
          "base_uri": "https://localhost:8080/"
        },
        "id": "oP7VNgUbo5Vw",
        "outputId": "80b95e71-4721-4dba-93e7-d72f62e7584a"
      },
      "execution_count": 12,
      "outputs": [
        {
          "output_type": "stream",
          "name": "stdout",
          "text": [
            "[[ 0.78598962+0.j          0.65381281+0.j          0.65381281-0.j        ]\n",
            " [ 0.33957958+0.j         -0.0595103 +0.49377558j -0.0595103 -0.49377558j]\n",
            " [ 0.51662949+0.j         -0.37832817-0.4266624j  -0.37832817+0.4266624j ]]\n"
          ]
        }
      ]
    },
    {
      "cell_type": "code",
      "source": [
        "print(Lambda)"
      ],
      "metadata": {
        "colab": {
          "base_uri": "https://localhost:8080/"
        },
        "id": "S_ds9OqtpHqe",
        "outputId": "c51584c5-be44-425e-d005-b71bd0bf43ce"
      },
      "execution_count": 13,
      "outputs": [
        {
          "output_type": "stream",
          "name": "stdout",
          "text": [
            "[2.52137971+0.j         0.23931015+0.85787363j 0.23931015-0.85787363j]\n"
          ]
        }
      ]
    },
    {
      "cell_type": "code",
      "source": [
        "inv_U = np.linalg.inv(U)\n",
        "print(inv_U)"
      ],
      "metadata": {
        "colab": {
          "base_uri": "https://localhost:8080/"
        },
        "id": "vk5qIEa1qEua",
        "outputId": "5fa7ad5e-edaf-4d59-e772-f26fb164d9bb"
      },
      "execution_count": 15,
      "outputs": [
        {
          "output_type": "stream",
          "name": "stdout",
          "text": [
            "[[ 0.49544457-7.06258072e-17j  0.65130955+0.00000000e+00j\n",
            "   0.75375931+1.05938711e-16j]\n",
            " [ 0.4669423 +1.14087359e-01j -0.39149014-7.41463535e-01j\n",
            "  -0.4530708 +3.13792385e-01j]\n",
            " [ 0.4669423 -1.14087359e-01j -0.39149014+7.41463535e-01j\n",
            "  -0.4530708 -3.13792385e-01j]]\n"
          ]
        }
      ]
    },
    {
      "cell_type": "code",
      "source": [
        "dig = np.diag(Lambda)\n",
        "print(dig) "
      ],
      "metadata": {
        "colab": {
          "base_uri": "https://localhost:8080/"
        },
        "id": "LEt_GXJcqrJK",
        "outputId": "03dbd7eb-5138-4ca8-9ad5-386173a5e6ea"
      },
      "execution_count": 16,
      "outputs": [
        {
          "output_type": "stream",
          "name": "stdout",
          "text": [
            "[[2.52137971+0.j         0.        +0.j         0.        +0.j        ]\n",
            " [0.        +0.j         0.23931015+0.85787363j 0.        +0.j        ]\n",
            " [0.        +0.j         0.        +0.j         0.23931015-0.85787363j]]\n"
          ]
        }
      ]
    },
    {
      "cell_type": "code",
      "source": [
        "def round(values,decs=0):\n",
        "  return np.round(values*10**decs)/(10**decs)"
      ],
      "metadata": {
        "id": "jt_vIKlnrarm"
      },
      "execution_count": 17,
      "outputs": []
    },
    {
      "cell_type": "code",
      "source": [
        "vec = np.dot(U , np.dot(dig,inv_U)) \n",
        "round(vec,decs=0)"
      ],
      "metadata": {
        "colab": {
          "base_uri": "https://localhost:8080/"
        },
        "id": "CyUVbkZhruoM",
        "outputId": "ac0645ff-b232-42ef-b684-13c9d6118b49"
      },
      "execution_count": 21,
      "outputs": [
        {
          "output_type": "execute_result",
          "data": {
            "text/plain": [
              "array([[1.-0.j, 2.+0.j, 1.+0.j],\n",
              "       [0.-0.j, 1.-0.j, 1.+0.j],\n",
              "       [1.+0.j, 0.-0.j, 1.+0.j]])"
            ]
          },
          "metadata": {},
          "execution_count": 21
        }
      ]
    },
    {
      "cell_type": "code",
      "source": [
        "print(M)"
      ],
      "metadata": {
        "colab": {
          "base_uri": "https://localhost:8080/"
        },
        "id": "oAcjBMe6s4g9",
        "outputId": "6d780788-5dc9-4f42-ad53-104c73332a03"
      },
      "execution_count": 22,
      "outputs": [
        {
          "output_type": "stream",
          "name": "stdout",
          "text": [
            "[[1 2 1]\n",
            " [0 1 1]\n",
            " [1 0 1]]\n"
          ]
        }
      ]
    }
  ]
}